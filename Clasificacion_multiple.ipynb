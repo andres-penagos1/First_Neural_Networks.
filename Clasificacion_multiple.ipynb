{
  "nbformat": 4,
  "nbformat_minor": 0,
  "metadata": {
    "colab": {
      "name": "Clasificacion_multiple.ipynb",
      "provenance": [],
      "collapsed_sections": []
    },
    "kernelspec": {
      "name": "python3",
      "display_name": "Python 3"
    },
    "language_info": {
      "name": "python"
    },
    "accelerator": "GPU"
  },
  "cells": [
    {
      "cell_type": "code",
      "execution_count": null,
      "metadata": {
        "id": "DxZ2I8msfWQw"
      },
      "outputs": [],
      "source": [
        "from keras import layers,models\n",
        "from keras.datasets import reuters\n",
        "import numpy as np\n",
        "import matplotlib.pyplot as plt"
      ]
    },
    {
      "cell_type": "markdown",
      "source": [
        "Se importara un dataset con  ceca de 11228 noticias de una televisora categorizadas de en 46 temas distintos "
      ],
      "metadata": {
        "id": "bO3U7ml5l82Y"
      }
    },
    {
      "cell_type": "code",
      "source": [
        "(train_data,train_labels),(test_data,test_labels)=reuters.load_data(num_words=10000) #importando las 10000 palabras mas comunes"
      ],
      "metadata": {
        "id": "oIBKjU_8gfYi"
      },
      "execution_count": null,
      "outputs": []
    },
    {
      "cell_type": "code",
      "source": [
        "train_data[0]"
      ],
      "metadata": {
        "id": "BoeOc564r0nY"
      },
      "execution_count": null,
      "outputs": []
    },
    {
      "cell_type": "code",
      "source": [
        "word_index = reuters.get_word_index()\n",
        "word_index = dict([(value,key)for (key,value)in word_index.items()])\n",
        "for i in train_data[0]:\n",
        "  print(word_index.get (i-3))"
      ],
      "metadata": {
        "id": "kMwAk7Zkr6ZB"
      },
      "execution_count": null,
      "outputs": []
    },
    {
      "cell_type": "code",
      "source": [
        "train_labels[0]"
      ],
      "metadata": {
        "colab": {
          "base_uri": "https://localhost:8080/"
        },
        "id": "w1VadtlDssSn",
        "outputId": "45d8aab7-0cb1-4cb9-a159-5f3d17c98201"
      },
      "execution_count": null,
      "outputs": [
        {
          "output_type": "execute_result",
          "data": {
            "text/plain": [
              "3"
            ]
          },
          "metadata": {},
          "execution_count": 5
        }
      ]
    },
    {
      "cell_type": "code",
      "source": [
        "#convirtiendo la data en tensor\n",
        "def vectorizar(sequences,dim=10000):                 ## esto generara arreglos donde llenara de 1 cada posicion que \n",
        "  results = np.zeros((len(sequences),dim))           ## encuentre un simil de la entrada sequences \n",
        "  for i ,sequences in enumerate(sequences):\n",
        "    results[i,sequences]=1\n",
        "  return results"
      ],
      "metadata": {
        "id": "i3llO0MMwydx"
      },
      "execution_count": null,
      "outputs": []
    },
    {
      "cell_type": "code",
      "source": [
        "x_train= vectorizar(train_data)\n",
        "x_test= vectorizar(test_data)"
      ],
      "metadata": {
        "id": "lMYct6ztxIwc"
      },
      "execution_count": null,
      "outputs": []
    },
    {
      "cell_type": "code",
      "source": [
        "from tensorflow.keras.utils import to_categorical"
      ],
      "metadata": {
        "id": "qCjuI9vV0aiC"
      },
      "execution_count": null,
      "outputs": []
    },
    {
      "cell_type": "code",
      "source": [
        "## haciendo one hot encoding  a los labels\n",
        "y_train= to_categorical(train_labels)\n",
        "y_test= to_categorical(test_labels)"
      ],
      "metadata": {
        "id": "mPChVRw5x3B6"
      },
      "execution_count": null,
      "outputs": []
    },
    {
      "cell_type": "code",
      "source": [
        "#ahora la forma que tienen  las etiquetas es la de una matriz donde esta marcado como 1 la posicion de la matriz correspondiente a la categoria\n",
        "y_train[0]"
      ],
      "metadata": {
        "colab": {
          "base_uri": "https://localhost:8080/"
        },
        "id": "q25Gt5ZG0_vf",
        "outputId": "e417c315-a622-4296-c5f8-13dad0dd892c"
      },
      "execution_count": null,
      "outputs": [
        {
          "output_type": "execute_result",
          "data": {
            "text/plain": [
              "array([0., 0., 0., 1., 0., 0., 0., 0., 0., 0., 0., 0., 0., 0., 0., 0., 0.,\n",
              "       0., 0., 0., 0., 0., 0., 0., 0., 0., 0., 0., 0., 0., 0., 0., 0., 0.,\n",
              "       0., 0., 0., 0., 0., 0., 0., 0., 0., 0., 0., 0.], dtype=float32)"
            ]
          },
          "metadata": {},
          "execution_count": 10
        }
      ]
    },
    {
      "cell_type": "code",
      "source": [
        "#Creando el modelo\n",
        "model = models.Sequential()\n",
        "model.add(layers.Dense(64,activation='relu',input_shape=(10000,)))\n",
        "model.add(layers.Dense(64,activation='relu'))\n",
        "model.add(layers.Dense(46,activation='softmax')) #softmax es muy buena funcion de activacion para calsificacion multiple"
      ],
      "metadata": {
        "id": "-mF4V5ix1VlD"
      },
      "execution_count": null,
      "outputs": []
    },
    {
      "cell_type": "code",
      "source": [
        "model.compile(optimizer='rmsprop',\n",
        "              loss = 'categorical_crossentropy',\n",
        "              metrics=['accuracy'])"
      ],
      "metadata": {
        "id": "xa57vNAL5ewz"
      },
      "execution_count": null,
      "outputs": []
    },
    {
      "cell_type": "code",
      "source": [
        "x_val = x_train[:1000]\n",
        "partial_x_train=x_train[1000:]\n",
        "\n",
        "y_val = y_train[:1000]\n",
        "partial_y_train=y_train[1000:]\n"
      ],
      "metadata": {
        "id": "Di5tsPzg_sBS"
      },
      "execution_count": null,
      "outputs": []
    },
    {
      "cell_type": "code",
      "source": [
        "history=model.fit(partial_x_train,partial_y_train,\n",
        "          epochs=9,                             ## al entrenar con epochs=30 se podia ver que el mayor accuracy  con la dat de validacion se daba al rededor del \n",
        "          batch_size=512,                        ## epochs = 9 por eso se reentrena con este numero\n",
        "          validation_data=(x_val,y_val))"
      ],
      "metadata": {
        "id": "Nld6-XWXBcuM",
        "colab": {
          "base_uri": "https://localhost:8080/"
        },
        "outputId": "f26b7656-7c79-4c99-b871-607fdc83a824"
      },
      "execution_count": null,
      "outputs": [
        {
          "output_type": "stream",
          "name": "stdout",
          "text": [
            "Epoch 1/9\n",
            "16/16 [==============================] - 2s 52ms/step - loss: 2.5665 - accuracy: 0.5159 - val_loss: 1.7114 - val_accuracy: 0.6310\n",
            "Epoch 2/9\n",
            "16/16 [==============================] - 0s 24ms/step - loss: 1.4237 - accuracy: 0.6938 - val_loss: 1.3025 - val_accuracy: 0.7150\n",
            "Epoch 3/9\n",
            "16/16 [==============================] - 0s 23ms/step - loss: 1.0613 - accuracy: 0.7690 - val_loss: 1.1417 - val_accuracy: 0.7510\n",
            "Epoch 4/9\n",
            "16/16 [==============================] - 0s 21ms/step - loss: 0.8353 - accuracy: 0.8212 - val_loss: 1.0405 - val_accuracy: 0.7700\n",
            "Epoch 5/9\n",
            "16/16 [==============================] - 0s 18ms/step - loss: 0.6698 - accuracy: 0.8593 - val_loss: 0.9683 - val_accuracy: 0.7860\n",
            "Epoch 6/9\n",
            "16/16 [==============================] - 0s 22ms/step - loss: 0.5292 - accuracy: 0.8918 - val_loss: 0.9141 - val_accuracy: 0.8140\n",
            "Epoch 7/9\n",
            "16/16 [==============================] - 0s 20ms/step - loss: 0.4267 - accuracy: 0.9129 - val_loss: 0.8948 - val_accuracy: 0.8150\n",
            "Epoch 8/9\n",
            "16/16 [==============================] - 0s 20ms/step - loss: 0.3453 - accuracy: 0.9280 - val_loss: 0.8775 - val_accuracy: 0.8180\n",
            "Epoch 9/9\n",
            "16/16 [==============================] - 0s 23ms/step - loss: 0.2885 - accuracy: 0.9387 - val_loss: 0.8766 - val_accuracy: 0.8170\n"
          ]
        }
      ]
    },
    {
      "cell_type": "code",
      "source": [
        "history_dict = history.history\n",
        "loss_values = history_dict['loss']\n",
        "val_loss_values = history_dict['val_loss'] \n",
        "fig = plt.figure(figsize=(5,5))\n",
        "\n",
        "\n",
        "epoch = range(1,len(loss_values)+1)\n",
        "plt.plot(epoch,loss_values, 'o',label='training')\n",
        "plt.plot(epoch,val_loss_values, '--',label='Validation') \n",
        "plt.legend()\n",
        "plt.show()"
      ],
      "metadata": {
        "colab": {
          "base_uri": "https://localhost:8080/",
          "height": 320
        },
        "id": "ThEYTiRdKrDW",
        "outputId": "a3637b2b-ca72-4c04-f77d-764e3f3daf09"
      },
      "execution_count": null,
      "outputs": [
        {
          "output_type": "display_data",
          "data": {
            "image/png": "[encoded data removed]",
            "text/plain": [
              "<Figure size 360x360 with 1 Axes>"
            ]
          },
          "metadata": {
            "needs_background": "light"
          }
        }
      ]
    },
    {
      "cell_type": "code",
      "source": [
        "#valor de acurraacy\n",
        "history_dict = history.history\n",
        "loss_values = history_dict['accuracy']\n",
        "val_loss_values = history_dict['val_accuracy'] \n",
        "\n",
        "fig = plt.figure(figsize=(5,5))\n",
        "epoch = range(1,len(loss_values)+1)\n",
        "plt.plot(epoch,loss_values, 'o',label='training')\n",
        "plt.plot(epoch,val_loss_values, '--',label='Validation') \n",
        "plt.legend()\n",
        "plt.show()"
      ],
      "metadata": {
        "colab": {
          "base_uri": "https://localhost:8080/",
          "height": 320
        },
        "id": "4369cXEhM83i",
        "outputId": "dc6a09b8-00b2-4e3a-809f-99aab00d0523"
      },
      "execution_count": null,
      "outputs": [
        {
          "output_type": "display_data",
          "data": {
            "image/png": "[encoded data removed]",
            "text/plain": [
              "<Figure size 360x360 with 1 Axes>"
            ]
          },
          "metadata": {
            "needs_background": "light"
          }
        }
      ]
    },
    {
      "cell_type": "code",
      "source": [
        "model.evaluate(x_test,y_test)   \n",
        "                               "
      ],
      "metadata": {
        "colab": {
          "base_uri": "https://localhost:8080/"
        },
        "id": "lc_nh1RzNYYT",
        "outputId": "f943b38f-7c9b-4355-c356-cc8d9eb4aa40"
      },
      "execution_count": null,
      "outputs": [
        {
          "output_type": "stream",
          "name": "stdout",
          "text": [
            "71/71 [==============================] - 0s 4ms/step - loss: 0.9839 - accuracy: 0.7885\n"
          ]
        },
        {
          "output_type": "execute_result",
          "data": {
            "text/plain": [
              "[0.9838538765907288, 0.7885128855705261]"
            ]
          },
          "metadata": {},
          "execution_count": 17
        }
      ]
    },
    {
      "cell_type": "code",
      "source": [
        "## haciendo predicciones\n",
        "predictions = model.predict(x_test) ## haciendo predicciones apartir de x_tes"
      ],
      "metadata": {
        "id": "SmTqF1irTjkx"
      },
      "execution_count": null,
      "outputs": []
    },
    {
      "cell_type": "code",
      "source": [
        "#mostramos un elemento de la prediccion\n",
        "print(predictions[0])  # recordemos que la capa de salida tiene 46 neuronas\n",
        "print(np.sum(predictions[0]))  "
      ],
      "metadata": {
        "colab": {
          "base_uri": "https://localhost:8080/"
        },
        "id": "sxtMMi2AXZlw",
        "outputId": "a7f35ef3-0e35-4658-f5ef-1963f65ce18f"
      },
      "execution_count": null,
      "outputs": [
        {
          "output_type": "stream",
          "name": "stdout",
          "text": [
            "[7.2283794e-05 1.5308055e-04 3.2479133e-05 7.9654491e-01 1.9223270e-01\n",
            " 3.0689878e-06 6.8410459e-06 8.4562598e-06 2.0905263e-03 1.6047898e-05\n",
            " 1.3286918e-05 3.5215276e-03 1.3492572e-04 6.8488601e-04 8.9631074e-05\n",
            " 2.4380765e-07 5.3661456e-04 4.2017935e-05 1.8608309e-05 1.2596579e-03\n",
            " 9.0425904e-04 4.7829348e-04 6.4262706e-05 1.8752682e-05 1.2543670e-05\n",
            " 3.8842121e-05 9.4314364e-06 6.8206168e-06 9.6669091e-06 2.0298618e-05\n",
            " 3.8696522e-05 4.8032874e-05 2.6814014e-05 1.2419323e-06 2.6274464e-04\n",
            " 1.7341600e-06 4.6654083e-04 4.4207187e-05 1.2600477e-05 3.9989740e-05\n",
            " 1.5578518e-05 3.1639238e-06 4.1060857e-06 5.2700616e-06 2.8780473e-06\n",
            " 1.4975478e-06]\n",
            "0.99999994\n"
          ]
        }
      ]
    },
    {
      "cell_type": "code",
      "source": [
        "np.argmax(predictions[0]) # con esto hacemos la preddicion real  con el metodo argmax"
      ],
      "metadata": {
        "colab": {
          "base_uri": "https://localhost:8080/"
        },
        "id": "7NCPFIz3cy1N",
        "outputId": "d6fa21a2-ddb7-4557-ecad-fb07f3fc70fa"
      },
      "execution_count": null,
      "outputs": [
        {
          "output_type": "execute_result",
          "data": {
            "text/plain": [
              "3"
            ]
          },
          "metadata": {},
          "execution_count": 23
        }
      ]
    },
    {
      "cell_type": "code",
      "source": [
        "### como reto se debe hacer el tratamiento necesario para reducir el overfitting"
      ],
      "metadata": {
        "id": "mA8HotTOd_UN"
      },
      "execution_count": null,
      "outputs": []
    },
    {
      "cell_type": "code",
      "source": [
        ""
      ],
      "metadata": {
        "id": "q5fp9bEkefKF"
      },
      "execution_count": null,
      "outputs": []
    }
  ]
}